{
 "cells": [
  {
   "cell_type": "heading",
   "metadata": {},
   "level": 1,
   "source": [
    "Face landmark classs"
   ]
  },
  {
   "cell_type": "code",
   "execution_count": null,
   "metadata": {
    "collapsed": true
   },
   "outputs": [],
   "source": [
    "\n",
    "\n",
    "class FaceLandmarks(Frame):\n",
    "\n",
    "    def __init__(self, parent, controller):\n",
    "        Frame.__init__(self, parent)\n",
    "\n",
    "        label = Label(self, text=\"FaceLandmarks\", font=\"LARGE_FONT\")\n",
    "        label.grid(column=1, row=1, sticky=W+E+N+S, padx=5, pady=5, columnspan=2)\n",
    "\n",
    "        button1 = Button(self, text=\"Back to home\", command=lambda: controller.show_frame(StartPage))\n",
    "        button1.grid(column = 1, row=2, sticky=W+E+N+S, padx=5, pady=5)\n",
    "\n",
    "        button2 = Button(self, text=\"Use Image\", command=self.face_landmarks)\n",
    "        button2.grid(column=1, row=3, sticky=W+E+N+S, padx=5, pady=5)\n",
    "\n",
    "    def open_image(self):\n",
    "\n",
    "        name = filedialog.askopenfilename(initialdir=\"C:/Users/Batman/Documents/Programming/tkinter/\",\n",
    "                               filetypes=((\"jpeg files\", \"*.jpg\"), (\"png files\", \"*.png\")),\n",
    "                               title=\"Choose a file.\"\n",
    "                               )\n",
    "        print(name)\n",
    "\n",
    "    def face_landmarks(self):\n",
    "        name = filedialog.askopenfilename(initialdir=\"C:/Users/Batman/Documents/Programming/tkinter/\",\n",
    "                                          filetypes=((\"jpeg files\", \"*.jpg\"), (\"png files\", \"*.png\")),\n",
    "                                          title=\"Choose a file.\"\n",
    "                                          )\n",
    "        while name is None:\n",
    "            pass\n",
    "        predictor_model = \"shape_predictor_68_face_landmarks.dat\"\n",
    "        face_detector = dlib.get_frontal_face_detector()\n",
    "        face_pose_predictor = dlib.shape_predictor(predictor_model)\n",
    "\n",
    "        win = dlib.image_window()\n",
    "        image = io.imread(name)\n",
    "        detected_faces = face_detector(image, 1)\n",
    "\n",
    "        print(\"Found {} faces in the image file {}\".format(len(detected_faces), name))\n",
    "        win.set_image(image)\n",
    "\n",
    "        for i, face_rect in enumerate(detected_faces):\n",
    "            print(\"- Face #{} found at Left: {} Top: {} Right: {} Bottom: {}\".format(i, face_rect.left(),\n",
    "                                                                                     face_rect.top(),\n",
    "                                                                                     face_rect.right(),\n",
    "                                                                                     face_rect.bottom()))\n",
    "        while True:\n",
    "            for i, face_rect in enumerate(detected_faces):\n",
    "                win.add_overlay(face_rect)\n",
    "                pose_landmarks = face_pose_predictor(image, face_rect)\n",
    "                win.add_overlay(pose_landmarks)\n",
    "\n",
    "            if cv2.waitKey(1) & 0xFF == ord('q'):\n",
    "                break\n",
    "        \n",
    "        cv2.destroyAllWindows()\n",
    "        "
   ]
  },
  {
   "cell_type": "code",
   "execution_count": null,
   "metadata": {},
   "outputs": [],
   "source": []
  }
 ],
 "metadata": {
  "kernelspec": {
   "display_name": "Python 2",
   "language": "python",
   "name": "python2"
  },
  "language_info": {
   "codemirror_mode": {
    "name": "ipython",
    "version": 2
   },
   "file_extension": ".py",
   "mimetype": "text/x-python",
   "name": "python",
   "nbconvert_exporter": "python",
   "pygments_lexer": "ipython2",
   "version": "2.7.6"
  }
 },
 "nbformat": 4,
 "nbformat_minor": 0
}
